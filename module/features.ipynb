{
 "cells": [
  {
   "cell_type": "code",
   "execution_count": 1,
   "id": "739e831a-2294-40e4-b5dc-b43ee926c1ce",
   "metadata": {},
   "outputs": [],
   "source": [
    "from sklearn.preprocessing import MinMaxScaler\n",
    "import pandas as pd\n",
    "import os"
   ]
  },
  {
   "cell_type": "code",
   "execution_count": 2,
   "id": "cef8de71-3c29-4d65-90c9-9ccf67c8b3c0",
   "metadata": {},
   "outputs": [
    {
     "name": "stdout",
     "output_type": "stream",
     "text": [
      "C:\\Users\\MAMM01\\OneDrive - ROC Mondriaan\\Documenten\\Workspace\\CEDA\\GitHub\\Uitnodigingsregel\n"
     ]
    }
   ],
   "source": [
    "''' Delete in .py file'''\n",
    "# Construct the path to move up two directory levels\n",
    "higher_dir = os.path.abspath('../')\n",
    "os.chdir(higher_dir)\n",
    "\n",
    "print(os.getcwd())\n",
    "\n",
    "from module.config import *\n",
    "if os.path.exists(user_data_dir_train) and os.path.exists(user_data_dir_pred):\n",
    "    train_df = pd.read_csv(user_data_dir_train, sep = '\\t')\n",
    "    pred_df = pd.read_csv(user_data_dir_pred, sep = '\\t')\n",
    "else:\n",
    "    train_df = pd.read_csv(synth_data_dir_train, sep = '\\t')\n",
    "    pred_df = pd.read_csv(synth_data_dir_pred, sep = '\\t')"
   ]
  },
  {
   "cell_type": "code",
   "execution_count": 3,
   "id": "d8f1a665-6f04-484a-86c8-581ee1c295b1",
   "metadata": {},
   "outputs": [],
   "source": [
    "### Add min/max scaler for LASSO regression\n",
    "def standardize_min_max (dataset_train, dataset_pred):\n",
    "    column_names_train = dataset_train.columns.tolist()\n",
    "    column_names_pred = dataset_pred.columns.tolist()\n",
    "    train_scaled_data = MinMaxScaler().fit_transform(dataset_train)\n",
    "    pred_scaled_data = MinMaxScaler().fit_transform(dataset_pred)\n",
    "    train_df_scaled1 = pd.DataFrame(train_scaled_data, columns=column_names_train)\n",
    "    pred_df_scaled1 = pd.DataFrame(pred_scaled_data, columns=column_names_pred)\n",
    "    train_df_scaled1.to_csv('data/interim/train_data_standardized.csv', sep='\\t', index=False) \n",
    "    pred_df_scaled1.to_csv('data/interim/pred_data_standardized.csv', sep='\\t', index=False)\n",
    "    return train_df_scaled1, pred_df_scaled1"
   ]
  },
  {
   "cell_type": "code",
   "execution_count": 4,
   "id": "3e6285e5-59f2-4787-8f34-af00fed4b2e1",
   "metadata": {},
   "outputs": [],
   "source": [
    "train_df_scaled, pred_df_scaled = standardize_min_max(train_df, pred_df)"
   ]
  },
  {
   "cell_type": "code",
   "execution_count": null,
   "id": "2c734014-6405-4268-93e6-03f665f75569",
   "metadata": {},
   "outputs": [],
   "source": []
  },
  {
   "cell_type": "raw",
   "id": "a015e2a2-e7a0-412a-9854-d211861d50b0",
   "metadata": {},
   "source": [
    "# Change columnname 'MagisterStamNr' to studentnummer \n",
    "dataset_pred_processed = pred_df.rename({'MagisterStamNr': 'Studentnummer'}, axis=1)\n",
    "dataset_pred_processed.to_csv('data/raw/synth_data_pred.csv', sep='\\t', index=False)"
   ]
  },
  {
   "cell_type": "code",
   "execution_count": null,
   "id": "0f9af7e4-09ec-4349-8ca4-cb57f08e90da",
   "metadata": {},
   "outputs": [],
   "source": []
  },
  {
   "cell_type": "code",
   "execution_count": null,
   "id": "8f847ded-49ba-428f-8529-b05291276061",
   "metadata": {},
   "outputs": [],
   "source": []
  }
 ],
 "metadata": {
  "kernelspec": {
   "display_name": "Python 3 (ipykernel)",
   "language": "python",
   "name": "python3"
  },
  "language_info": {
   "codemirror_mode": {
    "name": "ipython",
    "version": 3
   },
   "file_extension": ".py",
   "mimetype": "text/x-python",
   "name": "python",
   "nbconvert_exporter": "python",
   "pygments_lexer": "ipython3",
   "version": "3.12.3"
  }
 },
 "nbformat": 4,
 "nbformat_minor": 5
}
