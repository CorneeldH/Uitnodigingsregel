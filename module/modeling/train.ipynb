{
 "cells": [
  {
   "cell_type": "markdown",
   "id": "e5346835-6776-4d82-a7e7-26cea6b63a17",
   "metadata": {},
   "source": [
    "# Train"
   ]
  },
  {
   "cell_type": "code",
   "execution_count": 2,
   "id": "bb2f282f-6e86-4de3-a67d-2ba4e2451dff",
   "metadata": {},
   "outputs": [],
   "source": [
    "# Convert to .py when done\n",
    "import pandas as pd\n",
    "from sklearn.ensemble import RandomForestRegressor\n",
    "from sklearn.linear_model import Lasso\n",
    "from sklearn.svm import SVC\n",
    "from sklearn.model_selection import GridSearchCV\n",
    "import joblib\n",
    "\n",
    "import warnings\n",
    "warnings.filterwarnings(\"ignore\")\n",
    "import os"
   ]
  },
  {
   "cell_type": "code",
   "execution_count": 3,
   "id": "d3752762-2c26-4d0f-8966-a6c0c89bd4fd",
   "metadata": {},
   "outputs": [],
   "source": [
    "'''\n",
    "Delete for .py file \n",
    "'''\n",
    "# Construct the path to move up two directory levels\n",
    "higher_dir = os.path.abspath('../../')\n",
    "os.chdir(higher_dir)\n",
    "\n",
    "from module.config import *\n",
    "\n",
    "user_data_dir_train = PROJ_ROOT/DATA_DIR/'raw'/'user_data'/'train.csv'\n",
    "user_data_dir_pred = PROJ_ROOT/DATA_DIR/'raw'/'user_data'/'pred.csv'\n",
    "synth_data_dir_train = PROJ_ROOT/DATA_DIR/'raw'/'synth_data_train.csv'\n",
    "synth_data_dir_pred = PROJ_ROOT/DATA_DIR/'raw'/'synth_data_pred.csv'\n",
    "standardized_data_train = PROJ_ROOT/DATA_DIR/'interim'/'train_data_standardized.csv'\n",
    "standardized_data_pred = PROJ_ROOT/DATA_DIR/'interim'/'pred_data_standardized.csv'\n",
    "\n",
    "# Check if train.csv and pred.csv exist in user_data folder\n",
    "if os.path.exists(user_data_dir_train) and os.path.exists(user_data_dir_pred):\n",
    "    train_df = pd.read_csv(user_data_dir_train, sep = '\\t')\n",
    "    pred_df = pd.read_csv(user_data_dir_pred, sep = '\\t')\n",
    "else:\n",
    "    train_df = pd.read_csv(synth_data_dir_train, sep = '\\t')\n",
    "    pred_df = pd.read_csv(synth_data_dir_pred, sep = '\\t')"
   ]
  },
  {
   "cell_type": "code",
   "execution_count": 4,
   "id": "75054f39-1008-41ca-a292-75b140c8e9a2",
   "metadata": {},
   "outputs": [
    {
     "name": "stdout",
     "output_type": "stream",
     "text": [
      "C:\\Users\\MAMM01\\OneDrive - ROC Mondriaan\\Documenten\\Workspace\\CEDA\\GitHub\\Uitnodigingsregel\n"
     ]
    }
   ],
   "source": [
    "print(os.getcwd())"
   ]
  },
  {
   "cell_type": "code",
   "execution_count": null,
   "id": "6237c09b-1589-422b-b090-797a528d89d8",
   "metadata": {},
   "outputs": [],
   "source": []
  },
  {
   "cell_type": "code",
   "execution_count": null,
   "id": "7b1d1ea9-5c5d-4213-979b-eb246eddf43d",
   "metadata": {},
   "outputs": [],
   "source": [
    "# Random Forest Regressor model\n",
    "def randomforestregressormodel_train(dataset_train, random_state = random_seed):\n",
    "    X = dataset_train.drop(\"Dropout\", axis=1).values\n",
    "    y = dataset_train.Dropout.values\n",
    "    rf = RandomForestRegressor(random_state=random_seed)\n",
    "\n",
    "    rf_gridsearch = GridSearchCV(rf, rf_parameters, n_jobs = -1, verbose = 2)\n",
    "    rf_gridsearch.fit(X, y) \n",
    "    best_params = rf_gridsearch.best_params_\n",
    "    best_rf_model = RandomForestRegressor(**best_params)\n",
    "    best_rf_model.fit(X, y) \n",
    "    joblib.dump(best_rf_model, 'models/random_forest_regressor.joblib')\n",
    "    return best_rf_model\n"
   ]
  },
  {
   "cell_type": "code",
   "execution_count": null,
   "id": "fcd026c1-9437-4a9a-9c90-bbfa4123b16f",
   "metadata": {},
   "outputs": [],
   "source": [
    "best_rf_model = randomforestregressormodel_train (train_df)"
   ]
  },
  {
   "cell_type": "code",
   "execution_count": null,
   "id": "8fb2ea45-57dc-49c5-8d40-6bd8c3862eb3",
   "metadata": {},
   "outputs": [],
   "source": []
  },
  {
   "cell_type": "code",
   "execution_count": null,
   "id": "92ce5cb7-2b42-45d7-924d-cf00035a6ee2",
   "metadata": {},
   "outputs": [],
   "source": [
    "train_df_sdd = pd.read_csv(standardized_data_train, sep = '\\t')"
   ]
  },
  {
   "cell_type": "code",
   "execution_count": null,
   "id": "204e6d64-3869-4443-88a2-514ad24bde56",
   "metadata": {},
   "outputs": [],
   "source": [
    "def lassoregressionmodel_train (dataset_train_sdd): \n",
    "    X = dataset_train_sdd.drop(\"Dropout\", axis=1)\n",
    "    y = dataset_train_sdd.Dropout.values\n",
    "    lasso_model = Lasso(random_state = random_seed)\n",
    "\n",
    "    # score base on r2\n",
    "    param = {'alpha': alpha_range}\n",
    "    lasso_grid_search = GridSearchCV(lasso_model, param_grid = param, cv=5, n_jobs = -1, verbose = 2)\n",
    "    lasso_grid_search.fit(X, y)\n",
    "\n",
    "    best_params = lasso_grid_search.best_params_\n",
    "    best_lasso_model = Lasso(**best_params)\n",
    "    best_lasso_model.fit(X, y) \n",
    "    joblib.dump(best_lasso_model, 'models/lasso_regression.joblib')\n",
    "    return best_lasso_model"
   ]
  },
  {
   "cell_type": "code",
   "execution_count": null,
   "id": "40e21325-fb0b-4acb-a2ef-09f615189114",
   "metadata": {},
   "outputs": [],
   "source": [
    "best_lasso = lassoregressionmodel_train (train_df_sdd)"
   ]
  },
  {
   "cell_type": "code",
   "execution_count": null,
   "id": "54343834-341f-4305-8b0d-99c4838bc6d5",
   "metadata": {},
   "outputs": [],
   "source": []
  },
  {
   "cell_type": "code",
   "execution_count": 35,
   "id": "ac59f548-f1b0-4e91-9bdc-f4f55324ad89",
   "metadata": {},
   "outputs": [],
   "source": [
    "def supportvectormachinemodel_train(dataset_train):\n",
    "    X = dataset_train.drop(\"Dropout\", axis=1).values\n",
    "    y = dataset_train.Dropout.values\n",
    "    \n",
    "    svm_gridsearch = GridSearchCV(SVC(random_state=random_seed, probability = True), svm_parameters, refit = True, n_jobs = -1, verbose = 2) \n",
    "    svm_gridsearch.fit(X, y)\n",
    "\n",
    "    best_params = svm_gridsearch.best_params_\n",
    "    best_svm_model = SVC(**best_params, probability = True)\n",
    "    best_svm_model.fit(X, y) \n",
    "    #joblib.dump(best_svm_model, 'models/support_vector_machine.joblib')\n",
    "    return best_svm_model"
   ]
  },
  {
   "cell_type": "code",
   "execution_count": 37,
   "id": "081cbdb0-2874-405b-af18-d49469877c9e",
   "metadata": {},
   "outputs": [
    {
     "name": "stdout",
     "output_type": "stream",
     "text": [
      "Fitting 5 folds for each of 25 candidates, totalling 125 fits\n"
     ]
    }
   ],
   "source": [
    "best_svm = supportvectormachinemodel_train(train_df)"
   ]
  },
  {
   "cell_type": "code",
   "execution_count": 38,
   "id": "5fa5446f-ac6c-4261-8d79-647704b66427",
   "metadata": {},
   "outputs": [],
   "source": [
    "test_set = train_df.drop(\"Dropout\", axis=1).values\n",
    "probalities = best_svm.predict_proba(test_set)"
   ]
  },
  {
   "cell_type": "code",
   "execution_count": 41,
   "id": "3e68a051-4651-4031-b7b6-1c1580568f0e",
   "metadata": {},
   "outputs": [
    {
     "data": {
      "text/plain": [
       "array([[0.09795643, 0.90204357],\n",
       "       [0.09795643, 0.90204357],\n",
       "       [0.09795643, 0.90204357],\n",
       "       ...,\n",
       "       [0.08459558, 0.91540442],\n",
       "       [0.08459558, 0.91540442],\n",
       "       [0.08459558, 0.91540442]])"
      ]
     },
     "execution_count": 41,
     "metadata": {},
     "output_type": "execute_result"
    }
   ],
   "source": [
    "probalities"
   ]
  },
  {
   "cell_type": "code",
   "execution_count": null,
   "id": "f98e4782-d6bd-468d-a8d8-2a100d3aaa3e",
   "metadata": {},
   "outputs": [],
   "source": []
  },
  {
   "cell_type": "code",
   "execution_count": null,
   "id": "3ee4ab5f-9940-4c0c-9134-244024162b57",
   "metadata": {},
   "outputs": [],
   "source": []
  }
 ],
 "metadata": {
  "kernelspec": {
   "display_name": "Python 3 (ipykernel)",
   "language": "python",
   "name": "python3"
  },
  "language_info": {
   "codemirror_mode": {
    "name": "ipython",
    "version": 3
   },
   "file_extension": ".py",
   "mimetype": "text/x-python",
   "name": "python",
   "nbconvert_exporter": "python",
   "pygments_lexer": "ipython3",
   "version": "3.12.3"
  }
 },
 "nbformat": 4,
 "nbformat_minor": 5
}
