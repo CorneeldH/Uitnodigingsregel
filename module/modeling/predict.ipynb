{
 "cells": [
  {
   "cell_type": "markdown",
   "id": "c79871cc-9ffe-4c95-a691-8861689a943e",
   "metadata": {},
   "source": [
    "# Predict"
   ]
  },
  {
   "cell_type": "code",
   "execution_count": 4,
   "id": "e30fef70-40cc-495c-9e45-72f7356591ba",
   "metadata": {},
   "outputs": [],
   "source": [
    "import pandas as pd\n",
    "from pathlib import Path\n",
    "import joblib\n",
    "import os"
   ]
  },
  {
   "cell_type": "code",
   "execution_count": 5,
   "id": "62b94b89-75cd-48de-8d18-1434f78bdd30",
   "metadata": {},
   "outputs": [],
   "source": [
    "'''\n",
    "Delete in .py file \n",
    "'''\n",
    "higher_dir = os.path.abspath('../../')\n",
    "\n",
    "# Get working directory\n",
    "os.chdir(higher_dir)"
   ]
  },
  {
   "cell_type": "code",
   "execution_count": 6,
   "id": "e1098e56-90d3-41a6-a45a-021067a8f0cc",
   "metadata": {},
   "outputs": [],
   "source": [
    "from module.config import *\n",
    "\n",
    "# Check if train.csv and pred.csv exist in user_data folder\n",
    "if os.path.exists(user_data_dir_train) and os.path.exists(user_data_dir_pred):\n",
    "    train_df = pd.read_csv(user_data_dir_train, sep = '\\t')\n",
    "    pred_df = pd.read_csv(user_data_dir_pred, sep = '\\t')\n",
    "else:\n",
    "    train_df = pd.read_csv(synth_data_dir_train, sep = '\\t')\n",
    "    pred_df = pd.read_csv(synth_data_dir_pred, sep = '\\t')"
   ]
  },
  {
   "cell_type": "code",
   "execution_count": null,
   "id": "aaa5207e-bbb4-4774-8d48-bd576ee9230b",
   "metadata": {},
   "outputs": [],
   "source": []
  },
  {
   "cell_type": "code",
   "execution_count": 11,
   "id": "a02d529c-041f-4094-a437-5da80392ed2c",
   "metadata": {},
   "outputs": [],
   "source": [
    "best_rf_model = joblib.load('models/random_forest_regressor.joblib')\n",
    "best_lasso_model = joblib.load('models/lasso_regression.joblib')\n",
    "best_svm_model = joblib.load('models/support_vector_machine.joblib')"
   ]
  },
  {
   "cell_type": "code",
   "execution_count": null,
   "id": "c6437e88-e384-4d94-8262-4d7054fcbe7c",
   "metadata": {},
   "outputs": [],
   "source": [
    "# Random Forest Regressor model for predicitng\n",
    "def randomforestregressormodel_pred (pred_df):\n",
    "    X_pred = pred_df.drop('Dropout', axis=1).values  \n",
    "    X_pred_studentnumber = pred_df[['Studentnummer']]\n",
    "    yhat2 = best_rf_model.predict(X_pred)\n",
    "    pred_data0 = pd.DataFrame({'voorspelling': yhat2})\n",
    "    pred_data = pd.concat([pred_data0, X_pred_studentnumber], axis=1).reindex(pred_data0.index)\n",
    "\n",
    "    # Sort results\n",
    "    pred_data['ranking'] = pred_data['voorspelling'].rank(method = 'dense', ascending=False)\n",
    "    pred_data = pred_data.sort_values(by=['voorspelling'], ascending=False).reset_index(drop=True)\n",
    "    student_ranked_data = pd.DataFrame(data = pred_data)\n",
    "    student_ranked_data_ordered = student_ranked_data[['ranking', 'Studentnummer', 'voorspelling']]\n",
    "    return student_ranked_data_ordered"
   ]
  },
  {
   "cell_type": "code",
   "execution_count": null,
   "id": "1fb4304b-b194-45e1-99c4-ccec10e39e10",
   "metadata": {},
   "outputs": [],
   "source": [
    "ranked_students_rf = randomforestregressormodel_pred (pred_df)\n",
    "ranked_students_rf"
   ]
  },
  {
   "cell_type": "code",
   "execution_count": null,
   "id": "2407713f-72c6-43d7-8b15-964a6b82061e",
   "metadata": {},
   "outputs": [],
   "source": []
  },
  {
   "cell_type": "code",
   "execution_count": 13,
   "id": "a47b8b17-0e09-4a30-9f60-95e81eaea920",
   "metadata": {},
   "outputs": [],
   "source": [
    "pred_df_sdd = pd.read_csv(standardized_data_pred, sep = '\\t')"
   ]
  },
  {
   "cell_type": "code",
   "execution_count": null,
   "id": "19e4aa45-3af3-4ea1-bff8-604fbbf8efae",
   "metadata": {},
   "outputs": [],
   "source": [
    "# Lasso Regression model for predicting\n",
    "def lassoregressionmodel_pred (pred_df_sdd, dataset_pred):\n",
    "    X_pred = pred_df_sdd.drop(\"Dropout\", axis=1).values \n",
    "    X_pred_studentnumber = dataset_pred[['Studentnummer']]\n",
    "    \n",
    "    yhat2 = best_lasso_model.predict(X_pred)\n",
    "    pred_data0 = pd.DataFrame({'voorspelling': yhat2})\n",
    "    pred_data = pd.concat([pred_data0, X_pred_studentnumber], axis= 1).reindex(pred_data0.index)\n",
    "\n",
    "    # Sort results\n",
    "    pred_data['ranking'] = pred_data['voorspelling'].rank(method = 'dense', ascending=False)\n",
    "    pred_data = pred_data.sort_values(by=['voorspelling'], ascending=False).reset_index(drop=True)\n",
    "    student_ranked_data = pd.DataFrame(data = pred_data)\n",
    "    student_ranked_data_ordered = student_ranked_data[['ranking', 'Studentnummer', 'voorspelling']]\n",
    "    return student_ranked_data_ordered"
   ]
  },
  {
   "cell_type": "code",
   "execution_count": null,
   "id": "01e41cb5-31cd-4a2c-8d93-aab337a045d2",
   "metadata": {},
   "outputs": [],
   "source": [
    "ranked_students_lasso = lassoregressionmodel_pred(pred_df_sdd)\n",
    "ranked_students_lasso"
   ]
  },
  {
   "cell_type": "code",
   "execution_count": null,
   "id": "856b6beb-9715-4502-b0da-e63f3e4c6c7c",
   "metadata": {},
   "outputs": [],
   "source": []
  },
  {
   "cell_type": "code",
   "execution_count": null,
   "id": "1ee4c2cf-b156-489f-91a7-39b98251dc18",
   "metadata": {},
   "outputs": [],
   "source": []
  },
  {
   "cell_type": "code",
   "execution_count": 30,
   "id": "b505a4ee-c51b-4c63-8e45-07f6d861d13b",
   "metadata": {},
   "outputs": [],
   "source": [
    "def supportvectormachinemodel_pred (pred_df):\n",
    "    X_pred = pred_df.drop('Dropout', axis=1).values  \n",
    "    X_pred_studentnumber = pred_df[['Studentnummer']]\n",
    "    yhat2 = best_svm_model.predict_proba(X_pred)\n",
    "    yhat2_uitval = yhat2[:, 1]\n",
    "    pred_data0 = pd.DataFrame({'voorspelling': yhat2_uitval})\n",
    "    pred_data = pd.concat([pred_data0, X_pred_studentnumber], axis=1).reindex(pred_data0.index)\n",
    "\n",
    "    # Sort results\n",
    "    pred_data['ranking'] = pred_data['voorspelling'].rank(method = 'dense', ascending=False)\n",
    "    pred_data = pred_data.sort_values(by=['voorspelling'], ascending=False).reset_index(drop=True)\n",
    "    student_ranked_data = pd.DataFrame(data = pred_data)\n",
    "    student_ranked_data_ordered = student_ranked_data[['ranking', 'Studentnummer', 'voorspelling']]\n",
    "    return student_ranked_data_ordered"
   ]
  },
  {
   "cell_type": "code",
   "execution_count": 34,
   "id": "43dbe37c-7b1c-4beb-9f6f-1eb786870977",
   "metadata": {},
   "outputs": [
    {
     "name": "stdout",
     "output_type": "stream",
     "text": [
      "[0.15910392 0.15910392 0.15910392 0.15910392 0.15910392 0.15910392\n",
      " 0.15910392 0.15910392 0.15910392 0.15910392 0.15910392 0.15910392\n",
      " 0.15910392 0.15910392 0.15910392 0.15910392 0.15910392 0.15910392\n",
      " 0.15910392 0.15910392 0.15910392 0.15910392 0.15910392 0.15910392\n",
      " 0.15910392 0.15910392 0.15910392 0.15910392 0.15910392 0.15910392\n",
      " 0.15910392 0.15910392 0.15910392 0.15910392 0.15910392 0.15910392\n",
      " 0.15910392 0.15910392 0.15910392 0.15910392 0.15910392 0.15910392\n",
      " 0.15910392 0.15910392 0.15910392 0.15910392 0.15910392 0.15910392\n",
      " 0.15910392 0.15910392 0.15910392 0.15910392 0.15910392 0.15910392\n",
      " 0.15910392 0.15910392 0.15910392 0.15910392 0.15910392 0.15910392\n",
      " 0.15910392 0.15910392 0.15910392 0.15910392 0.15910392 0.15910392\n",
      " 0.15910392 0.15910392 0.15910392 0.15910392 0.15910392 0.15910392\n",
      " 0.15910392 0.15910392 0.15910392 0.15910392 0.15910392 0.15910392\n",
      " 0.15910392 0.15910392 0.15910392 0.15910392 0.15910392 0.15910392\n",
      " 0.15910392 0.15910392 0.15910392 0.15910392 0.15910392 0.15910392\n",
      " 0.15910392 0.15910392 0.15910392 0.15910392 0.15910392 0.15910392\n",
      " 0.15910392 0.15910392 0.15910392 0.15910392 0.15910392 0.15910392\n",
      " 0.15910392 0.15910392 0.15910392 0.15910392 0.15910392 0.15910392\n",
      " 0.15910392 0.15910392 0.15910392 0.15910392 0.15910392 0.15910392\n",
      " 0.15910392 0.15910392 0.15910392 0.15910392 0.15910392 0.15910392\n",
      " 0.15910392 0.15910392 0.15910392 0.15910392 0.15910392 0.15910392\n",
      " 0.15910392 0.15910392 0.15910392 0.15910392 0.15910392 0.15910392\n",
      " 0.15910392 0.15910392 0.15910392 0.15910392 0.15910392 0.15910392\n",
      " 0.15910392 0.15910392 0.15910392 0.15910392 0.15910392 0.15910392\n",
      " 0.15910392 0.15910392 0.15910392 0.15910392 0.15910392 0.15910392]\n"
     ]
    },
    {
     "data": {
      "text/html": [
       "<div>\n",
       "<style scoped>\n",
       "    .dataframe tbody tr th:only-of-type {\n",
       "        vertical-align: middle;\n",
       "    }\n",
       "\n",
       "    .dataframe tbody tr th {\n",
       "        vertical-align: top;\n",
       "    }\n",
       "\n",
       "    .dataframe thead th {\n",
       "        text-align: right;\n",
       "    }\n",
       "</style>\n",
       "<table border=\"1\" class=\"dataframe\">\n",
       "  <thead>\n",
       "    <tr style=\"text-align: right;\">\n",
       "      <th></th>\n",
       "      <th>ranking</th>\n",
       "      <th>Studentnummer</th>\n",
       "      <th>voorspelling</th>\n",
       "    </tr>\n",
       "  </thead>\n",
       "  <tbody>\n",
       "    <tr>\n",
       "      <th>0</th>\n",
       "      <td>1.0</td>\n",
       "      <td>0.869142</td>\n",
       "      <td>0.159104</td>\n",
       "    </tr>\n",
       "    <tr>\n",
       "      <th>1</th>\n",
       "      <td>1.0</td>\n",
       "      <td>0.919470</td>\n",
       "      <td>0.159104</td>\n",
       "    </tr>\n",
       "    <tr>\n",
       "      <th>2</th>\n",
       "      <td>1.0</td>\n",
       "      <td>0.870152</td>\n",
       "      <td>0.159104</td>\n",
       "    </tr>\n",
       "    <tr>\n",
       "      <th>3</th>\n",
       "      <td>1.0</td>\n",
       "      <td>0.922981</td>\n",
       "      <td>0.159104</td>\n",
       "    </tr>\n",
       "    <tr>\n",
       "      <th>4</th>\n",
       "      <td>1.0</td>\n",
       "      <td>0.850013</td>\n",
       "      <td>0.159104</td>\n",
       "    </tr>\n",
       "    <tr>\n",
       "      <th>...</th>\n",
       "      <td>...</td>\n",
       "      <td>...</td>\n",
       "      <td>...</td>\n",
       "    </tr>\n",
       "    <tr>\n",
       "      <th>145</th>\n",
       "      <td>1.0</td>\n",
       "      <td>0.880143</td>\n",
       "      <td>0.159104</td>\n",
       "    </tr>\n",
       "    <tr>\n",
       "      <th>146</th>\n",
       "      <td>1.0</td>\n",
       "      <td>0.867747</td>\n",
       "      <td>0.159104</td>\n",
       "    </tr>\n",
       "    <tr>\n",
       "      <th>147</th>\n",
       "      <td>1.0</td>\n",
       "      <td>0.872556</td>\n",
       "      <td>0.159104</td>\n",
       "    </tr>\n",
       "    <tr>\n",
       "      <th>148</th>\n",
       "      <td>1.0</td>\n",
       "      <td>0.906690</td>\n",
       "      <td>0.159104</td>\n",
       "    </tr>\n",
       "    <tr>\n",
       "      <th>149</th>\n",
       "      <td>1.0</td>\n",
       "      <td>0.872027</td>\n",
       "      <td>0.159104</td>\n",
       "    </tr>\n",
       "  </tbody>\n",
       "</table>\n",
       "<p>150 rows × 3 columns</p>\n",
       "</div>"
      ],
      "text/plain": [
       "     ranking  Studentnummer  voorspelling\n",
       "0        1.0       0.869142      0.159104\n",
       "1        1.0       0.919470      0.159104\n",
       "2        1.0       0.870152      0.159104\n",
       "3        1.0       0.922981      0.159104\n",
       "4        1.0       0.850013      0.159104\n",
       "..       ...            ...           ...\n",
       "145      1.0       0.880143      0.159104\n",
       "146      1.0       0.867747      0.159104\n",
       "147      1.0       0.872556      0.159104\n",
       "148      1.0       0.906690      0.159104\n",
       "149      1.0       0.872027      0.159104\n",
       "\n",
       "[150 rows x 3 columns]"
      ]
     },
     "execution_count": 34,
     "metadata": {},
     "output_type": "execute_result"
    }
   ],
   "source": [
    "ranked_students_svm = supportvectormachinemodel_pred (pred_df_sdd)\n",
    "ranked_students_svm"
   ]
  },
  {
   "cell_type": "code",
   "execution_count": null,
   "id": "8b1f4faa-1b87-43d4-a42f-17ff40da1f63",
   "metadata": {},
   "outputs": [],
   "source": []
  },
  {
   "cell_type": "code",
   "execution_count": null,
   "id": "08c4a7b7-1688-402d-8e17-d5fa29e7dae7",
   "metadata": {},
   "outputs": [],
   "source": []
  }
 ],
 "metadata": {
  "kernelspec": {
   "display_name": "Python 3 (ipykernel)",
   "language": "python",
   "name": "python3"
  },
  "language_info": {
   "codemirror_mode": {
    "name": "ipython",
    "version": 3
   },
   "file_extension": ".py",
   "mimetype": "text/x-python",
   "name": "python",
   "nbconvert_exporter": "python",
   "pygments_lexer": "ipython3",
   "version": "3.12.3"
  }
 },
 "nbformat": 4,
 "nbformat_minor": 5
}
