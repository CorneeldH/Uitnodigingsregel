{
 "cells": [
  {
   "cell_type": "code",
   "execution_count": 1,
   "id": "a67d009d-0eb0-4c5f-a26b-8abfe5a1ae56",
   "metadata": {},
   "outputs": [],
   "source": [
    "# Import packages \n",
    "import pandas as pd\n",
    "import os"
   ]
  },
  {
   "cell_type": "raw",
   "id": "df8b0b34-4109-4bd2-9102-34f458c7a61d",
   "metadata": {},
   "source": [
    "Nog te doen:\n",
    "1) Create synth dataset (to place in user_data folder) --> Change column values to for example get different output from lasso model (higher alpha)\n",
    "2) Tekst bijzetten wat dingen doen in verhaal vormpje\n",
    "3) Dan wat opdrachtjes uitschrijven zoals. 1) run de mainfile, 2) plaats ëigenbestand (misschien een tweede synthetische dataset) \n",
    "   en run miain file. 3) verander wat parameters etc."
   ]
  },
  {
   "cell_type": "code",
   "execution_count": 2,
   "id": "a11a2340-3692-4cfd-a6f7-bb0c247dc189",
   "metadata": {},
   "outputs": [],
   "source": [
    "# Import .py scripts from subdirectories \n",
    "from module.config import *\n",
    "from module.dataset import *\n",
    "from module.modeling.train import *\n",
    "from module.features import *"
   ]
  },
  {
   "cell_type": "code",
   "execution_count": 3,
   "id": "9c95dc98-ef92-45b9-8002-dae234e02390",
   "metadata": {},
   "outputs": [],
   "source": [
    "# Check if train.csv and pred.csv exist in user_data folder, otherwise load synthetic datasests\n",
    "if os.path.exists(user_data_dir_train) and os.path.exists(user_data_dir_pred):\n",
    "    train_df = pd.read_csv(user_data_dir_train, sep = '\\t')\n",
    "    pred_df = pd.read_csv(user_data_dir_pred, sep = '\\t')\n",
    "else:\n",
    "    train_df = pd.read_csv(synth_data_dir_train, sep = '\\t')\n",
    "    pred_df = pd.read_csv(synth_data_dir_pred, sep = '\\t')"
   ]
  },
  {
   "cell_type": "code",
   "execution_count": 4,
   "id": "fa7d1dbe-2ffa-48a0-9557-852e7b4768a5",
   "metadata": {},
   "outputs": [],
   "source": [
    "# Use the function standardize_min_max to standardize the train and pred datasets using a min max scaler and save them as .csv files in the folder data/interim \n",
    "# These datasets can be used for the lasso regression model, because reggression is sensitive to scaling \n",
    "standardize_dataset (train_df, pred_df)\n",
    "\n",
    "# Load the standardized datasets\n",
    "train_df_sdd = pd.read_csv(standardized_data_train, sep = '\\t')\n",
    "pred_df_sdd = pd.read_csv(standardized_data_pred, sep = '\\t')"
   ]
  },
  {
   "cell_type": "code",
   "execution_count": 5,
   "id": "4da4d73f-eb56-4f44-87d6-aaa23961ac07",
   "metadata": {},
   "outputs": [
    {
     "name": "stdout",
     "output_type": "stream",
     "text": [
      "Fitting 5 folds for each of 486 candidates, totalling 2430 fits\n",
      "Fitting 5 folds for each of 199 candidates, totalling 995 fits\n",
      "Fitting 5 folds for each of 25 candidates, totalling 125 fits\n"
     ]
    }
   ],
   "source": [
    "# Run the models with GridsearchCV for optimization and save the fitted models in the folder '/models/'\n",
    "best_rf_model = randomforestregressormodel_train (train_df)\n",
    "best_lasso_model = lassoregressionmodel_train (train_df_sdd)\n",
    "best_svm_model = supportvectormachinemodel_train (train_df)"
   ]
  },
  {
   "cell_type": "code",
   "execution_count": 6,
   "id": "150e4238-74a0-4991-8a44-6f2126323cf8",
   "metadata": {},
   "outputs": [],
   "source": [
    "# Import code that loads the trained models and that can predict on the dataset\n",
    "from module.modeling.predict import *"
   ]
  },
  {
   "cell_type": "code",
   "execution_count": 7,
   "id": "223f97e3-b7ec-4ec6-b1eb-56b61f570a70",
   "metadata": {},
   "outputs": [],
   "source": [
    "# Use the loaded models to predict on the dataset\n",
    "ranked_students_rf = randomforestregressormodel_pred (pred_df)\n",
    "ranked_students_lasso = lassoregressionmodel_pred(pred_df_sdd, pred_df)\n",
    "ranked_students_svm = supportvectormachinemodel_pred(pred_df)"
   ]
  },
  {
   "cell_type": "code",
   "execution_count": null,
   "id": "e33afc57-c9da-4686-9e6e-4b62ff3079a6",
   "metadata": {},
   "outputs": [],
   "source": []
  },
  {
   "cell_type": "code",
   "execution_count": 10,
   "id": "e3c0712b-d2d9-4d93-9c7e-f3c6c098a78a",
   "metadata": {},
   "outputs": [],
   "source": [
    "# Save results as excel files\n",
    "writer = pd.ExcelWriter('models/predictions/ranked_students.xlsx', engine='xlsxwriter')\n",
    "ranked_students_rf.to_excel(writer, sheet_name='Random Forest', startrow=0, startcol=0, index=False)\n",
    "ranked_students_lasso.to_excel(writer, sheet_name='Lasso', startrow=0, startcol=0, index=False)\n",
    "ranked_students_svm.to_excel(writer, sheet_name='Support Vector Machine', startrow=0, startcol=0, index=False)\n",
    "writer.close()"
   ]
  },
  {
   "cell_type": "raw",
   "id": "b53ee9c0-7708-4088-bcd0-ae851ce4a7da",
   "metadata": {},
   "source": [
    "## Save the output data (ranked students) as .csv files \n",
    "ranked_students_rf.to_csv('data/processed/ranked_students_rf.csv', sep='\\t', index=False) \n",
    "ranked_students_lasso.to_csv('data/processed/ranked_students_lasso.csv', sep='\\t', index=False) \n",
    "#ranked_students_svm.to_csv('data/processed/ranked_students_rf.csv', sep='\\t', index=False) "
   ]
  },
  {
   "cell_type": "code",
   "execution_count": null,
   "id": "9ae0babb-10ab-40a5-af97-40d7f1f7a480",
   "metadata": {},
   "outputs": [],
   "source": []
  },
  {
   "cell_type": "code",
   "execution_count": null,
   "id": "6e488fe3-03c1-4920-a963-59110fba2e55",
   "metadata": {},
   "outputs": [],
   "source": []
  },
  {
   "cell_type": "code",
   "execution_count": null,
   "id": "133bb817-74e1-4ec8-82ca-b16f80e06bbe",
   "metadata": {},
   "outputs": [],
   "source": []
  },
  {
   "cell_type": "code",
   "execution_count": null,
   "id": "9154b274-a73c-49c3-a8ab-26d879d8019c",
   "metadata": {},
   "outputs": [],
   "source": []
  },
  {
   "cell_type": "code",
   "execution_count": null,
   "id": "938d0b4d-ab00-4547-a173-85fb9dc1075c",
   "metadata": {},
   "outputs": [],
   "source": []
  }
 ],
 "metadata": {
  "kernelspec": {
   "display_name": "Python 3 (ipykernel)",
   "language": "python",
   "name": "python3"
  },
  "language_info": {
   "codemirror_mode": {
    "name": "ipython",
    "version": 3
   },
   "file_extension": ".py",
   "mimetype": "text/x-python",
   "name": "python",
   "nbconvert_exporter": "python",
   "pygments_lexer": "ipython3",
   "version": "3.12.3"
  }
 },
 "nbformat": 4,
 "nbformat_minor": 5
}
